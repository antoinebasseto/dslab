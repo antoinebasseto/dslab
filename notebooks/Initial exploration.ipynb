{
 "cells": [
  {
   "cell_type": "markdown",
   "id": "7a397b37",
   "metadata": {},
   "source": [
    "# DSLab initial exploration\n",
    "---"
   ]
  },
  {
   "cell_type": "code",
   "execution_count": 7,
   "id": "41e9b0a7",
   "metadata": {},
   "outputs": [],
   "source": [
    "import numpy as np\n",
    "import cv2 as cv\n",
    "from nd2reader import ND2Reader"
   ]
  },
  {
   "cell_type": "markdown",
   "id": "1169f8a6",
   "metadata": {},
   "source": [
    "## Reading the data"
   ]
  },
  {
   "cell_type": "code",
   "execution_count": 10,
   "id": "a5303c59",
   "metadata": {},
   "outputs": [],
   "source": [
    "data_dir = \"data\""
   ]
  },
  {
   "cell_type": "code",
   "execution_count": 11,
   "id": "7f659d25",
   "metadata": {},
   "outputs": [],
   "source": [
    "file = ND2Reader(data_dir + \"/Small mvt 1.nd2\")"
   ]
  },
  {
   "cell_type": "code",
   "execution_count": 12,
   "id": "b38a1dd5",
   "metadata": {},
   "outputs": [],
   "source": [
    "for i in range(8):\n",
    "    img = file.get_frame_2D(x=0, y=0, c=4, t=i, z=0, v=0)[1000:2000,1000:2000]\n",
    "    img_cells = file.get_frame_2D(x=0, y=0, c=0, t=i, z=0, v=0)[1000:2000,1000:2000]\n",
    "\n",
    "    # type conversion for cv2\n",
    "    img_cells = cv.normalize(src=img_cells, dst=None, alpha=0, beta=255, norm_type=cv.NORM_MINMAX, dtype=cv.CV_8U)\n",
    "\n",
    "    thresh = 20\n",
    "    im_bw = cv.threshold(img_cells, thresh, 255, cv.THRESH_BINARY)[1]\n",
    "\n",
    "    cells = cv.bitwise_and(img_cells, img_cells, mask = im_bw)\n",
    "\n",
    "\n",
    "    mask = cv.blur(im_bw, (30,30))\n",
    "\n",
    "    img = cv.normalize(src=img, dst=None, alpha=0, beta=255, norm_type=cv.NORM_MINMAX, dtype=cv.CV_8U)\n",
    "\n",
    "    cimg = cv.cvtColor(img, cv.COLOR_GRAY2BGR)\n",
    "\n",
    "    circles = cv.HoughCircles(img, cv.HOUGH_GRADIENT, dp=1, param1=50, param2=30, minDist=40, minRadius=20, maxRadius=25)\n",
    "\n",
    "    circles = np.uint16(np.around(circles))\n",
    "    for c in circles[0,:]:\n",
    "        # draw the outer circle\n",
    "        cv.circle(cimg,(c[0],c[1]),c[2],(0,255,0),2)\n",
    "        # draw the center of the circle\n",
    "        cv.circle(cimg,(c[0],c[1]),2,(0,0,255),3)\n",
    "\n",
    "    cimg[im_bw == 255] = [255,0,0]\n",
    "    cimg = cv.bitwise_and(cimg, cimg, mask = mask)\n",
    "    cv.imwrite(f\"images/hough_mask_img{i}.png\", cimg)"
   ]
  },
  {
   "cell_type": "code",
   "execution_count": 13,
   "id": "ba6cd4b7",
   "metadata": {},
   "outputs": [],
   "source": [
    "cv.imshow('detected circles',cimg)"
   ]
  },
  {
   "cell_type": "code",
   "execution_count": null,
   "id": "b06e9764",
   "metadata": {},
   "outputs": [],
   "source": [
    "cv.waitKey(0)"
   ]
  },
  {
   "cell_type": "code",
   "execution_count": null,
   "id": "cfc27537",
   "metadata": {},
   "outputs": [],
   "source": [
    "cv.destroyAllWindows()"
   ]
  },
  {
   "cell_type": "code",
   "execution_count": null,
   "id": "0d1118d2",
   "metadata": {},
   "outputs": [],
   "source": []
  }
 ],
 "metadata": {
  "kernelspec": {
   "display_name": "Python 3 (ipykernel)",
   "language": "python",
   "name": "python3"
  },
  "language_info": {
   "codemirror_mode": {
    "name": "ipython",
    "version": 3
   },
   "file_extension": ".py",
   "mimetype": "text/x-python",
   "name": "python",
   "nbconvert_exporter": "python",
   "pygments_lexer": "ipython3",
   "version": "3.7.11"
  }
 },
 "nbformat": 4,
 "nbformat_minor": 5
}
